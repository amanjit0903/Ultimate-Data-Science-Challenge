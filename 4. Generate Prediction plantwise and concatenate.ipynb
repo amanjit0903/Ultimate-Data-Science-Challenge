{
 "cells": [
  {
   "cell_type": "code",
   "execution_count": 4,
   "metadata": {},
   "outputs": [],
   "source": [
    "import pandas as pd\n",
    "import matplotlib.pyplot as plt\n",
    "import plotly.plotly as py\n",
    "import plotly.graph_objs as go\n",
    "from plotly.offline import download_plotlyjs, init_notebook_mode,  plot\n",
    "from statsmodels.graphics.tsaplots import plot_acf, plot_pacf\n",
    "from statsmodels.tsa.stattools import adfuller\n",
    "import numpy as np\n",
    "import math\n",
    "from statsmodels.tsa.stattools import acf, pacf\n",
    "from statsmodels.tsa.arima_model import ARIMA\n",
    "import warnings\n",
    "import itertools\n",
    "import pandas as pd\n",
    "import numpy as np\n",
    "import statsmodels.api as sm\n",
    "import matplotlib.pyplot as plt\n",
    "import matplotlib.pyplot as plt\n",
    "import matplotlib.pylab as pylab\n",
    "import warnings\n",
    "warnings.filterwarnings('ignore')\n",
    "params = {'legend.fontsize': 'xx-large',\n",
    "          'figure.figsize': (15, 10),\n",
    "         'axes.labelsize': 'xx-large',\n",
    "         'axes.titlesize':'xx-large',\n",
    "         'xtick.labelsize':'xx-large',\n",
    "         'ytick.labelsize':'xx-large'}"
   ]
  },
  {
   "cell_type": "code",
   "execution_count": 31,
   "metadata": {},
   "outputs": [],
   "source": [
    "# functions to fill the missing  values using interpolation\n",
    "#'Monthly_Avg_Tkt_Rev','Monthly_Avg_Tkt_Rev_PnS','Monthly Parts & Supplies MTD % to Quota','Monthly SMA MTD % to Quota','Monthly Store Account MTD % to Quota','Monthly WC MTD % to Quota','Monthly Mktg Adopt'\n",
    "# test=pd.read_csv(\"X1.csv\")\n",
    "Sales = pd.read_excel('transforedstoremetrics.xlsx', sheetname='2014')\n",
    "# test1=pd.read_excel('transforedstoremetrics.xlsx', sheetname='2013')\n",
    "def interpolate_data(column_name):\n",
    "    Sales[column_name].interpolate(method='linear', inplace=True,limit_direction='both')"
   ]
  },
  {
   "cell_type": "code",
   "execution_count": 32,
   "metadata": {},
   "outputs": [],
   "source": [
    "# Date Conversion function\n",
    "# Plant_Master=pd.read_csv(\"Plant_Master.csv\")\n",
    "Sales['Month']=Sales['TS_ID']\n",
    "Sales['Year']=Sales['Year']\n",
    "Sales['Date'] = pd.to_datetime(Sales[['Year', 'Month']].assign(Day=1))\n",
    "Sales['Pandas_Datestamp'] = pd.to_datetime(Sales['Date'], infer_datetime_format=True)\n",
    "Sales['Year'] = pd.DatetimeIndex(Sales['Date']).year\n",
    "Sales['TS_ID'] = pd.DatetimeIndex(Sales['Date']).month\n",
    "Sales.sort_values(by='Pandas_Datestamp')\n",
    "Plants = Sales.Store_ID.unique()"
   ]
  },
  {
   "cell_type": "code",
   "execution_count": 34,
   "metadata": {},
   "outputs": [],
   "source": [
    "# interpolate_data('Monthly Avg Tkt Rev')\n",
    "\n",
    "Sales_col=['Monthly VOC','Monthly Avg Tkt Rev PnS','Monthly Parts & Supplies MTD % to Quota','Monthly SMA MTD % to Quota','Monthly Store Account MTD % to Quota','Monthly WC MTD % to Quota','Monthly Mktg Adopt']\n",
    "for i in Sales_col:\n",
    "    interpolate_data(i)\n",
    "Sales.to_csv(\"transforedstoremetrics2014.csv\")  "
   ]
  },
  {
   "cell_type": "code",
   "execution_count": 35,
   "metadata": {},
   "outputs": [],
   "source": [
    "#FUNCTION FOR DIFFERENT PLANT\n",
    "def diff_plant(plant,predictor):\n",
    "  \n",
    "    \n",
    "    \n",
    "    Plant_1=pd.DataFrame(Sales[Sales['Store_ID']== plant]) #EXTRACTING A SPECIFIC Plant/Store\n",
    "#     Sales[predictor] = pd.to_numeric(Sales[predictor], errors='coerce')\n",
    "#     cols_to_norm = [predictor] #SCALING\n",
    "#     Plant_1[cols_to_norm] = Plant_1[cols_to_norm].apply(lambda x: (x - x.min()) / (x.max() - x.min())) #SCALING\n",
    "#     Plant_1.sort_values(by='Pandas_Datestamp')\n",
    "\n",
    "\n",
    "#     SEPARATING AS PER YEAR\n",
    "#     Plant_1_2013=Plant_1[Plant_1['Year']==2013]\n",
    "#     Plant_1_2013['Month'] = Plant_1_2013['Pandas_Datestamp'].apply(lambda x: x.strftime('%Y-%m-01')) #FIRST DAY OF EVERY MONTH\n",
    "#     Plant_1_2013=pd.DataFrame(Plant_1_2013.groupby('Month', as_index=False)[predictor].mean())\n",
    "#     Plant_1_2013.sort_values(by='Month')\n",
    "\n",
    "    Plant_1_2014=Plant_1[Plant_1['Year']==2014]\n",
    "    Plant_1_2014['Month'] = Plant_1_2014['Pandas_Datestamp'].apply(lambda x: x.strftime('%Y-%m-01')) #FIRST DAY OF EVERY MONTH\n",
    "    Plant_1_2014=pd.DataFrame(Plant_1_2014.groupby('Month', as_index=False)[predictor].mean())\n",
    "    Plant_1_2014.sort_values(by='Month')\n",
    "\n",
    "#CONCATENATION\n",
    "\n",
    "    Plant_1_ALLYEARS = pd.concat([Plant_1_2014]).reset_index(drop=True) #, axis=1\n",
    "    Plant_1_ALLYEARS.index = Plant_1_ALLYEARS['Month']\n",
    "    Plant_1_ALLYEARS.drop(columns='Month')\n",
    "    Plant_1_ALLYEARS= Plant_1_ALLYEARS.drop(columns='Month')\n",
    "    Plant_1_ALLYEARS.reset_index(inplace=True)\n",
    "    Plant_1_ALLYEARS['Month'] = pd.to_datetime(Plant_1_ALLYEARS['Month'])\n",
    "    Plant_1_ALLYEARS = Plant_1_ALLYEARS.set_index('Month')\n",
    "    #ROLLING AVERGAGE FORMULA - TRIAL WITH MOVING WINDOW\n",
    "#     Plant_1_ALLYEARS['MA_3']= Plant_1_ALLYEARS[predictor].rolling(3).mean()\n",
    "#     Plant_1_ALLYEARS['MA_3_std']= Plant_1_ALLYEARS[predictor].rolling(3).std() #QUATERLY\n",
    "    Plant_1_ALLYEARS['Plant'] = plant\n",
    "    return Plant_1_ALLYEARS"
   ]
  },
  {
   "cell_type": "code",
   "execution_count": 37,
   "metadata": {},
   "outputs": [],
   "source": [
    "# to generate moving average values for 2015 for all the coulmns\n",
    "import warnings\n",
    "warnings.filterwarnings('ignore')\n",
    "def moving_average(data,j,store_id):\n",
    "    values=data.values[:,0]\n",
    "#     print(values)\n",
    "    average=[]\n",
    "    for i in range(1,13):\n",
    "#         print(len)\n",
    "        avg=round((values[len(values)-1]+values[len(values)-2])/2,6)\n",
    "        values=np.append(values,round(avg,6))\n",
    "        average.append([('2015-'+str(i)+'-'+'01'),avg,store_id])\n",
    "#     df=pd.DataFrame(average,columns=['Date',j,Store_id])\n",
    "    return average\n",
    "# moving_average(diff_plant('A168','Monthly WC MTD % to Quota'),'Monthly WC MTD % to Quota','A168')\n",
    "# df[i]=pd.DataFrame(data, columns=['Date',j])\n",
    "# diff_plant('A168','Monthly WC MTD % to Quota')"
   ]
  },
  {
   "cell_type": "code",
   "execution_count": null,
   "metadata": {},
   "outputs": [],
   "source": []
  },
  {
   "cell_type": "code",
   "execution_count": 38,
   "metadata": {},
   "outputs": [],
   "source": [
    "# df=pd.DatFrame\n",
    "p=0\n",
    "q=0\n",
    "\n",
    "data_final=[]\n",
    "\n",
    "# 'Monthly VOC','Monthly Phonecalls','Monthly Mktg Adopt','Monthly Avg Tkt YoY Growth','Monthly Avg Tkt Rev PnS','Monthly Parts & Supplies MTD % to Quota','Monthly Store Account MTD % to Quota','Monthly SMA MTD % to Quota'\n",
    "Sales_col=['Monthly VOC','Monthly Phonecalls','Monthly Mktg Adopt','Monthly Avg Tkt YoY Growth','Monthly Avg Tkt Rev PnS','Monthly Parts & Supplies MTD % to Quota','Monthly Store Account MTD % to Quota','Monthly SMA MTD % to Quota']    \n",
    "for k,j in enumerate(Sales_col):\n",
    "    data=[]\n",
    "    for i in range(len(Plants)):\n",
    "        t=moving_average(diff_plant(Plants[i],j),j,Plants[i])\n",
    "        s=pd.DataFrame(t,columns=['Date',j,'Store_id'])\n",
    "        data.append(s)\n",
    "    data_final.append(pd.concat(data))\n",
    "#     print(result)\n",
    "#     data_final.append(result)"
   ]
  },
  {
   "cell_type": "code",
   "execution_count": 39,
   "metadata": {},
   "outputs": [],
   "source": [
    "# melt for each catogories and concat, but because duplicted values add cumcount for unique triples in MultiIndex\n",
    "df1 = data_final[0].set_index(['Store_id','Date', data_final[0].groupby(['Store_id','Date']).cumcount()])\n",
    "df2 = data_final[1].set_index(['Store_id','Date', data_final[1].groupby(['Store_id','Date']).cumcount()])\n",
    "df3 = data_final[2].set_index(['Store_id','Date', data_final[2].groupby(['Store_id','Date']).cumcount()])\n",
    "df4 = data_final[3].set_index(['Store_id','Date', data_final[3].groupby(['Store_id','Date']).cumcount()])\n",
    "df5 = data_final[4].set_index(['Store_id','Date', data_final[4].groupby(['Store_id','Date']).cumcount()])\n",
    "df6 = data_final[5].set_index(['Store_id','Date', data_final[5].groupby(['Store_id','Date']).cumcount()])\n",
    "df7 = data_final[6].set_index(['Store_id','Date', data_final[6].groupby(['Store_id','Date']).cumcount()])\n",
    "df8 = data_final[7].set_index(['Store_id','Date', data_final[7].groupby(['Store_id','Date']).cumcount()])\n",
    "# df9 = data_final[8].set_index(['Store_id','Date', data_final[8].groupby(['Store_id','Date']).cumcount()])\n",
    "result=pd.concat([df1,df2,df3,df4,df5,df6,df7,df8],axis=1).sort_index(level=2).reset_index(level=2, drop=True).reset_index()\n",
    "# data_final[1]"
   ]
  }
 ],
 "metadata": {
  "kernelspec": {
   "display_name": "Python 3",
   "language": "python",
   "name": "python3"
  },
  "language_info": {
   "codemirror_mode": {
    "name": "ipython",
    "version": 3
   },
   "file_extension": ".py",
   "mimetype": "text/x-python",
   "name": "python",
   "nbconvert_exporter": "python",
   "pygments_lexer": "ipython3",
   "version": "3.7.1"
  }
 },
 "nbformat": 4,
 "nbformat_minor": 2
}
